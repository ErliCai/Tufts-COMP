{
 "cells": [
  {
   "cell_type": "code",
   "execution_count": 4,
   "metadata": {},
   "outputs": [
    {
     "name": "stdout",
     "output_type": "stream",
     "text": [
      "{1, 2, 3}\n",
      "[1, 2, 3]\n"
     ]
    }
   ],
   "source": [
    "l = [1,2,3]\n",
    "s = set(l)\n",
    "print(s)\n",
    "l2 = list(s)\n",
    "print(l2)"
   ]
  },
  {
   "cell_type": "code",
   "execution_count": 5,
   "metadata": {},
   "outputs": [
    {
     "name": "stdout",
     "output_type": "stream",
     "text": [
      "True\n",
      "False\n"
     ]
    }
   ],
   "source": [
    "a = [1,2,3]\n",
    "b = [1,2,3]\n",
    "\n",
    "print(a==b)\n",
    "print(a is b)"
   ]
  },
  {
   "cell_type": "code",
   "execution_count": 12,
   "metadata": {},
   "outputs": [
    {
     "name": "stdout",
     "output_type": "stream",
     "text": [
      "[1, 2, 3, 4, 5, 6, 7, 8, 9, 10, 11, 12, 13, 14, 15, 16, 17, 18, 19, 20, 21, 22, 23, 24, 25, 26, 27, 28, 29, 30, 31, 32, 33, 34, 35, 36, 37, 38, 39, 40, 41, 42, 43, 44, 45, 46, 47, 48, 49, 50, 51, 52, 53, 54, 55, 56, 57, 58, 59, 60]\n"
     ]
    }
   ],
   "source": [
    "\n",
    "\n",
    "a = [60 - i for i in range(60)]\n",
    "\n",
    "a.sort()\n",
    "\n",
    "print(a)"
   ]
  },
  {
   "cell_type": "code",
   "execution_count": 20,
   "metadata": {},
   "outputs": [
    {
     "name": "stdout",
     "output_type": "stream",
     "text": [
      "[1, 2, 3, 4, 5]\n"
     ]
    }
   ],
   "source": [
    "def removedup(l):\n",
    "    i = 0\n",
    "    while i < len(l):\n",
    "        j = i+1\n",
    "        while j < len(l):\n",
    "            if l[i] == l[j]:\n",
    "                l.pop(j)\n",
    "            else:\n",
    "                j += 1\n",
    "        i += 1\n",
    "l = [1,2,3,4,5,1,2,3,4,5,1,1,1,1,1]\n",
    "removedup(l)\n",
    "print(l)"
   ]
  },
  {
   "cell_type": "code",
   "execution_count": 24,
   "metadata": {},
   "outputs": [
    {
     "name": "stdout",
     "output_type": "stream",
     "text": [
      "[1, 2]\n",
      "[2, 61, 1, 123, 6]\n"
     ]
    }
   ],
   "source": [
    "l = [1,2,3,6,123,1,61,2]\n",
    "\n",
    "l2 = l[:2]\n",
    "print(l2)\n",
    "l3 = l[-1:2:-1]\n",
    "print(l3)"
   ]
  },
  {
   "cell_type": "code",
   "execution_count": 45,
   "metadata": {},
   "outputs": [
    {
     "name": "stdout",
     "output_type": "stream",
     "text": [
      "5\n",
      "15\n",
      "16\n",
      "11\n",
      "\n",
      "1\n",
      "13\n",
      "12\n",
      "11\n",
      "\n",
      "9\n",
      "2\n",
      "14\n",
      "7\n",
      "\n",
      "\n",
      "4\n",
      "3\n",
      "6\n",
      "8\n",
      "\n",
      "[[15, 13, 2, 5], [14, 3, 4, 1], [12, 6, 8, 9], [16, 7, 10, 11]]\n"
     ]
    }
   ],
   "source": [
    "def rrotate(matrix, topleft, size):\n",
    "        x = y = topleft\n",
    "        for i in range(size-1):\n",
    "            temp = matrix[y][x+i]\n",
    "            matrix[y][x+i] = matrix[y+size-1-i][x]\n",
    "            matrix[y+size-1-i][x] = matrix[y+size-1][x+size-1-i]\n",
    "            matrix[y+size-1][x+size-1-i] = matrix[y+i][x+size-1]\n",
    "            matrix[y+i][x+size-1] = temp\n",
    "m = [[5,1,9,11],[2,4,8,10],[13,3,6,7],[15,14,12,16]]\n",
    "rrotate(m,0,4)\n",
    "print()\n",
    "rrotate(m,1,2)\n",
    "print(m)"
   ]
  },
  {
   "cell_type": "code",
   "execution_count": 2,
   "metadata": {},
   "outputs": [
    {
     "name": "stdout",
     "output_type": "stream",
     "text": [
      "81\n"
     ]
    }
   ],
   "source": [
    "\n",
    "def square(a):\n",
    "    return a**2\n",
    "\n",
    "def do_twice(fn,a):\n",
    "    return fn(fn(a))\n",
    "\n",
    "print(do_twice(square,3))\n",
    "\n"
   ]
  },
  {
   "cell_type": "code",
   "execution_count": null,
   "metadata": {},
   "outputs": [],
   "source": []
  }
 ],
 "metadata": {
  "kernelspec": {
   "display_name": "Python 3",
   "language": "python",
   "name": "python3"
  },
  "language_info": {
   "codemirror_mode": {
    "name": "ipython",
    "version": 3
   },
   "file_extension": ".py",
   "mimetype": "text/x-python",
   "name": "python",
   "nbconvert_exporter": "python",
   "pygments_lexer": "ipython3",
   "version": "3.7.4"
  }
 },
 "nbformat": 4,
 "nbformat_minor": 2
}
