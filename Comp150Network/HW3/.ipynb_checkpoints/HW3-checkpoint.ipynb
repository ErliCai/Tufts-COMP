{
 "cells": [
  {
   "cell_type": "code",
   "execution_count": 17,
   "metadata": {},
   "outputs": [
    {
     "name": "stdout",
     "output_type": "stream",
     "text": [
      "2950\n",
      "{'YMR207C': {}, 'YDL055C': {}, 'YMR106C': {}, 'YER172C': {}, 'YNL177C': {}, 'YLR386W': {}, 'YHL034C': {}, 'YDL047W': {}, 'YGL122C': {}, 'YNL031C': {}, 'YER179W': {}, 'YML121W': {}, 'YDL117W': {}, 'YIR010W': {}, 'YDL225W': {}, 'YKL049C': {}, 'YER012W': {}, 'YHL002W': {}, 'YNL251C': {}, 'YLL013C': {}, 'YPL026C': {}, 'YIL061C': {}, 'YJR064W': {}, 'YBR194W': {}, 'YPL240C': {}, 'YML065W': {}, 'YKL198C': {}, 'YJL020C': {}, 'YLR191W': {}, 'YPL190C': {}, 'YER151C': {}, 'YBR010W': {}, 'YDR398W': {}, 'YMR109W': {}, 'YBR009C': {}, 'YMR236W': {}, 'YHR114W': {}, 'YLL039C': {}, 'YKL029C': {}, 'YPL004C': {}, 'YNL030W': {}, 'YMR223W': {}, 'YHL030W': {}, 'YPR110C': {}, 'YNR051C': {}, 'YBL085W': {}, 'YNL002C': {}, 'YGR270W': {}, 'YPR152C': {}}\n"
     ]
    },
    {
     "data": {
      "image/png": "[encoded data removed]",
      "text/plain": [
       "<Figure size 432x288 with 1 Axes>"
      ]
     },
     "metadata": {
      "needs_background": "light"
     },
     "output_type": "display_data"
    }
   ],
   "source": [
    "import networkx as nx\n",
    "import matplotlib.pyplot as plt\n",
    "\n",
    "ppi = nx.Graph()\n",
    "\n",
    "file = open(\"ppi/confidence.ppi\",\"r\")\n",
    "f = file.readline()\n",
    "\n",
    "\n",
    "while f:\n",
    "    line = f.split()\n",
    "    ppi.add_edge(line[0],line[1])\n",
    "    f = file.readline()\n",
    "\n",
    "Degree = [ppi.degree(node) for node in ppi]\n",
    "plt.hist(Degree,bins=100,range=(0,300))\n",
    "print(max(Degree))\n",
    "\n",
    "\n",
    "print(ppi['YNR016C'])"
   ]
  },
  {
   "cell_type": "code",
   "execution_count": 14,
   "metadata": {},
   "outputs": [
    {
     "name": "stdout",
     "output_type": "stream",
     "text": [
      "0.1\n",
      "0.8\n"
     ]
    }
   ],
   "source": [
    "clustering = open(\"clustering.txt\",\"w+\")\n",
    "for node in ppi.nodes:\n",
    "    clustering.write(node)\n",
    "    clustering.write('\\t')\n",
    "    clustering.write(str(nx.clustering(ppi,node)))\n",
    "    clustering.write('\\n')\n",
    "clustering.close()\n",
    "\n",
    "print(nx.clustering(ppi,'YGR296W'))\n",
    "print(nx.clustering(ppi,'YPL098C'))\n",
    "\n",
    "# A higher clustering coefficient means most of the neighbors of 'YPL098C' interact with each other(forms an edge)"
   ]
  },
  {
   "cell_type": "code",
   "execution_count": 33,
   "metadata": {},
   "outputs": [
    {
     "name": "stdout",
     "output_type": "stream",
     "text": [
      "6\n",
      "6\n",
      "0.06521162897857237\n",
      "0.3045684470122461\n"
     ]
    }
   ],
   "source": [
    "test1 = nx.Graph()\n",
    "test1.add_edge(1,2)\n",
    "test1.add_edge(3,2)\n",
    "test1.add_edge(1,3)\n",
    "\n",
    "def count_three_clique(network):\n",
    "    number_of_triangles = 0\n",
    "    for i in network.nodes:\n",
    "        neighbors = [key for key in network[i]]\n",
    "        for j in neighbors:\n",
    "            for k in neighbors:\n",
    "                if network.has_edge(j,k):\n",
    "                    number_of_triangles += 1\n",
    "    return number_of_triangles\n",
    "\n",
    "def path_length_two(network):\n",
    "    path = 0\n",
    "    for i in network:\n",
    "        n = len(network[i])\n",
    "        path += n*(n-1)\n",
    "    return path\n",
    "\n",
    "print(count_three_clique(test1))\n",
    "print(path_length_two(test1))\n",
    "print(count_three_clique(ppi)/path_length_two(ppi))\n",
    "print(nx.average_clustering(ppi))"
   ]
  },
  {
   "cell_type": "code",
   "execution_count": null,
   "metadata": {},
   "outputs": [],
   "source": [
    "\n",
    "\n",
    "\n",
    "\n"
   ]
  },
  {
   "cell_type": "code",
   "execution_count": 8,
   "metadata": {},
   "outputs": [
    {
     "name": "stdout",
     "output_type": "stream",
     "text": [
      "0 1\n",
      "0 2\n",
      "0 3\n",
      "0 4\n",
      "1 2\n",
      "1 3\n",
      "1 4\n",
      "2 3\n",
      "2 4\n",
      "3 4\n"
     ]
    }
   ],
   "source": []
  },
  {
   "cell_type": "code",
   "execution_count": null,
   "metadata": {},
   "outputs": [],
   "source": []
  },
  {
   "cell_type": "code",
   "execution_count": null,
   "metadata": {},
   "outputs": [],
   "source": []
  },
  {
   "cell_type": "code",
   "execution_count": null,
   "metadata": {},
   "outputs": [],
   "source": []
  }
 ],
 "metadata": {
  "kernelspec": {
   "display_name": "Python 3",
   "language": "python",
   "name": "python3"
  },
  "language_info": {
   "codemirror_mode": {
    "name": "ipython",
    "version": 3
   },
   "file_extension": ".py",
   "mimetype": "text/x-python",
   "name": "python",
   "nbconvert_exporter": "python",
   "pygments_lexer": "ipython3",
   "version": "3.7.7"
  }
 },
 "nbformat": 4,
 "nbformat_minor": 4
}
