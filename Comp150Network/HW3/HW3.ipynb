{
 "cells": [
  {
   "cell_type": "code",
   "execution_count": 128,
   "metadata": {},
   "outputs": [
    {
     "data": {
      "text/plain": [
       "(array([320., 670., 558., 489., 397., 296., 234., 250., 167., 143., 136.,\n",
       "        122., 130., 110.,  92.,  91.,  66.,  62.,  61.,  44.,  49.,  30.,\n",
       "         36.,  28.,  25.,  24.,  25.,  18.,  20.,  22.,  15.,  18.,  17.,\n",
       "         15.,  15.,  17.,  15.,   8.,  14.,   8.,  10.,   9.,   5.,   9.,\n",
       "          3.,   7.,   6.,   2.,   3.,   5.,   3.,   4.,   1.,   4.,   1.,\n",
       "          2.,   4.,   1.,   1.,   2.,   0.,   3.,   2.,   1.,   3.,   1.,\n",
       "          1.,   2.,   2.,   1.,   1.,   0.,   0.,   0.,   0.,   0.,   0.,\n",
       "          1.,   1.,   0.,   0.,   0.,   1.,   0.,   1.,   0.,   2.,   1.,\n",
       "          0.,   0.,   1.,   0.,   0.,   1.,   1.,   0.,   0.,   1.,   0.,\n",
       "          0.]),\n",
       " array([  0.,   3.,   6.,   9.,  12.,  15.,  18.,  21.,  24.,  27.,  30.,\n",
       "         33.,  36.,  39.,  42.,  45.,  48.,  51.,  54.,  57.,  60.,  63.,\n",
       "         66.,  69.,  72.,  75.,  78.,  81.,  84.,  87.,  90.,  93.,  96.,\n",
       "         99., 102., 105., 108., 111., 114., 117., 120., 123., 126., 129.,\n",
       "        132., 135., 138., 141., 144., 147., 150., 153., 156., 159., 162.,\n",
       "        165., 168., 171., 174., 177., 180., 183., 186., 189., 192., 195.,\n",
       "        198., 201., 204., 207., 210., 213., 216., 219., 222., 225., 228.,\n",
       "        231., 234., 237., 240., 243., 246., 249., 252., 255., 258., 261.,\n",
       "        264., 267., 270., 273., 276., 279., 282., 285., 288., 291., 294.,\n",
       "        297., 300.]),\n",
       " <a list of 100 Patch objects>)"
      ]
     },
     "execution_count": 128,
     "metadata": {},
     "output_type": "execute_result"
    },
    {
     "data": {
      "image/png": "[encoded data removed]",
      "text/plain": [
       "<Figure size 432x288 with 1 Axes>"
      ]
     },
     "metadata": {
      "needs_background": "light"
     },
     "output_type": "display_data"
    }
   ],
   "source": [
    "# Question 1\n",
    "\n",
    "\n",
    "# qustion 1(a)\n",
    "# Build a network based on the date\n",
    "import networkx as nx\n",
    "import matplotlib.pyplot as plt\n",
    "\n",
    "ppi = nx.Graph()\n",
    "\n",
    "file = open(\"ppi/confidence.ppi\",\"r\")\n",
    "f = file.readline()\n",
    "\n",
    "\n",
    "while f:\n",
    "    line = f.split()\n",
    "    ppi.add_edge(line[0],line[1])\n",
    "    f = file.readline()\n",
    "\n",
    "Degree = [ppi.degree(node) for node in ppi]\n",
    "plt.hist(Degree,bins=100,range=(0,300))\n",
    "# print(max(Degree))\n",
    "\n",
    "\n",
    "# print(ppi['YNR016C'])\n",
    "\n"
   ]
  },
  {
   "cell_type": "code",
   "execution_count": 2,
   "metadata": {},
   "outputs": [
    {
     "name": "stdout",
     "output_type": "stream",
     "text": [
      "0.1\n",
      "0.8\n"
     ]
    }
   ],
   "source": [
    "# qustion 1(b)\n",
    "clustering = open(\"clustering.txt\",\"w+\")\n",
    "for node in ppi.nodes:\n",
    "    clustering.write(node)\n",
    "    clustering.write('\\t')\n",
    "    clustering.write(str(nx.clustering(ppi,node)))\n",
    "    clustering.write('\\n')\n",
    "clustering.close()\n",
    "\n",
    "print(nx.clustering(ppi,'YGR296W'))\n",
    "print(nx.clustering(ppi,'YPL098C'))\n",
    "\n",
    "# A higher clustering coefficient means most of the neighbors of 'YPL098C' interact with each other(forms an edge)\n",
    "\n",
    "\n"
   ]
  },
  {
   "cell_type": "code",
   "execution_count": 3,
   "metadata": {},
   "outputs": [
    {
     "name": "stdout",
     "output_type": "stream",
     "text": [
      "2127084\n",
      "0.06521162897857237\n",
      "0.06521162897857237\n"
     ]
    }
   ],
   "source": [
    "# qustion 1(c)\n",
    "def count_three_clique(network):\n",
    "    number_of_triangles = 0\n",
    "    for i in network.nodes:\n",
    "        neighbors = [key for key in network[i]]\n",
    "        for j in neighbors:\n",
    "            for k in neighbors:\n",
    "                if network.has_edge(j,k):\n",
    "                    number_of_triangles += 1\n",
    "    return number_of_triangles\n",
    "\n",
    "def path_length_two(network):\n",
    "    path = 0\n",
    "    for i in network:\n",
    "        n = len(network[i])\n",
    "        path += n*(n-1)\n",
    "    return path\n",
    "\n",
    "def global_clustering_coefficient(network):\n",
    "    return count_three_clique(network)/path_length_two(network)\n",
    "\n",
    "print(count_three_clique(ppi))\n",
    "print(global_clustering_coefficient(ppi))\n",
    "print(nx.transitivity(ppi))"
   ]
  },
  {
   "cell_type": "code",
   "execution_count": 4,
   "metadata": {},
   "outputs": [
    {
     "data": {
      "text/plain": [
       "(array([ 33., 803., 162.,   0.,   0.]),\n",
       " array([0.5, 1.5, 2.5, 3.5, 4.5, 5.5]),\n",
       " <a list of 5 Patch objects>)"
      ]
     },
     "execution_count": 4,
     "metadata": {},
     "output_type": "execute_result"
    },
    {
     "data": {
      "image/png": "[encoded data removed]",
      "text/plain": [
       "<Figure size 432x288 with 1 Axes>"
      ]
     },
     "metadata": {
      "needs_background": "light"
     },
     "output_type": "display_data"
    }
   ],
   "source": [
    "# qustion 1(d)\n",
    "import random\n",
    "\n",
    "shortest_length = []\n",
    "L = list(ppi.nodes)\n",
    "\n",
    "for trials in range(1000):\n",
    "    i = L[random.randrange(1000)]\n",
    "    j = L[random.randrange(1000)]\n",
    "    shortest_length.append(len(nx.shortest_path(ppi,i,j))-1)\n",
    "\n",
    "\n",
    "plt.hist(shortest_length,bins=5,range=(0.5,5.5))\n",
    "\n",
    "\n",
    "# The shortest path distances is far smaller than I expected\n",
    "# I was thinking the nodes would be quite separate from each other since there are a huge number of nodes\n",
    "# But the experiment result show that there is no two nodes separated by more than 3 edges\n"
   ]
  },
  {
   "cell_type": "code",
   "execution_count": 5,
   "metadata": {},
   "outputs": [],
   "source": [
    "# print(nx.diameter(ppi))\n",
    "\n",
    "\n",
    "\n",
    "\n",
    "\n"
   ]
  },
  {
   "cell_type": "code",
   "execution_count": 143,
   "metadata": {},
   "outputs": [
    {
     "name": "stdout",
     "output_type": "stream",
     "text": [
      "['YDL160C', 'YLR109W', 'YBR109C', 'YBR011C', 'YFL039C', 'YGR254W', 'YKR097W', 'YDR050C', 'YBR218C', 'YGL122C', 'YNL031C', 'YPL240C', 'YDL072C', 'YJR072C', 'YFR004W', 'YOL068C', 'YLL050C', 'YIL138C', 'YHL034C', 'YCL037C', 'YLL039C', 'YML028W', 'YNL255C']\n",
      "16\n"
     ]
    }
   ],
   "source": [
    "\n",
    "# Question 2 starts her,\n",
    "# This part is I try to use majority vote method on the whole network\n",
    "print(list(ppi.neighbors('YNL079C')))\n",
    "\n",
    "Mips = open(\"ppi/MIPSFirstLevel.anno3\",\"r\")\n",
    "l = Mips.readline()\n",
    "\n",
    "labels = {}\n",
    "while l:\n",
    "    line = l.split()\n",
    "    if len(line) > 1:\n",
    "        labels[line[0]] = line[1:]\n",
    "    else:\n",
    "        labels[line[0]] = None\n",
    "    \n",
    "    l = Mips.readline()\n",
    "\n",
    "votes = {}\n",
    "for i in ppi.nodes:\n",
    "    for j in ppi.neighbors(i):\n",
    "        if j in votes:\n",
    "            votes_on_j = votes[j]\n",
    "        else:\n",
    "            votes_on_j = {}\n",
    "        if labels[i] is not None:\n",
    "            for k in labels[i]:\n",
    "                if k not in votes_on_j:\n",
    "                    votes_on_j[k] = 1\n",
    "                else:\n",
    "                    votes_on_j[k] += 1\n",
    "            votes[j] = votes_on_j\n",
    "votes['YNL204C'] = None\n",
    "            \n",
    "def find_label(d):\n",
    "    if d is None:\n",
    "        return None\n",
    "    if d == {}:\n",
    "        return None\n",
    "    max_val = max([val for key, val in d.items()])\n",
    "    max_key = [key for key in d if d[key] == max_val]\n",
    "    max_key = min(max_key)\n",
    "    return max_key\n",
    "\n",
    "vote_result = {}\n",
    "for i in ppi.nodes:\n",
    "    vote_result[i] = votes[i]\n",
    "    vote_result[i] = find_label(votes[i])\n",
    "\n",
    "#print(votes['YNL079C'])\n",
    "print(vote_result['YDR143C'])\n",
    "\n"
   ]
  },
  {
   "cell_type": "code",
   "execution_count": 183,
   "metadata": {},
   "outputs": [
    {
     "data": {
      "text/plain": [
       "'16'"
      ]
     },
     "execution_count": 183,
     "metadata": {},
     "output_type": "execute_result"
    }
   ],
   "source": [
    "# question 2(a)\n",
    "\n",
    "def Majority_Vote(node,testset):\n",
    "    votes = {}\n",
    "    for node2 in testset:\n",
    "        if ppi.has_edge(node,node2):\n",
    "            if labels[node2] is None:\n",
    "                continue\n",
    "            for i in labels[node2]:\n",
    "                if i not in votes:\n",
    "                    votes[i] = 0\n",
    "                votes[i] += 1\n",
    "    return find_label(votes)\n",
    "\n",
    "# compared with result above we know that this algorithm gives correct result\n",
    "Majority_Vote('YDR143C',ppi.nodes)\n"
   ]
  },
  {
   "cell_type": "code",
   "execution_count": 184,
   "metadata": {},
   "outputs": [
    {
     "data": {
      "text/plain": [
       "'01'"
      ]
     },
     "execution_count": 184,
     "metadata": {},
     "output_type": "execute_result"
    }
   ],
   "source": [
    "# question 2(b)\n",
    "def My_algorithm(node,testset):\n",
    "    votes = []\n",
    "    for node2 in testset:\n",
    "        if ppi.has_edge(node,node2):\n",
    "            if labels[node2] is None:\n",
    "                continue\n",
    "            for i in labels[node2]:\n",
    "                if i not in votes:\n",
    "                    votes.append(i)\n",
    "                else:\n",
    "                    return i\n",
    "    if len(votes) > 1:\n",
    "        return votes[0]\n",
    "    else:\n",
    "        return None\n",
    "\n",
    "# compared with result above we know that this algorithm gives correct result\n",
    "My_algorithm('YDR143C',ppi.nodes)\n",
    "\n",
    "\n",
    "\n"
   ]
  },
  {
   "cell_type": "code",
   "execution_count": 211,
   "metadata": {},
   "outputs": [
    {
     "name": "stdout",
     "output_type": "stream",
     "text": [
      "2287\n",
      "1467\n"
     ]
    }
   ],
   "source": [
    "# question 2(c), generating dataset\n",
    "l = list(ppi.nodes)\n",
    "\n",
    "testset = []\n",
    "testset.append([l[i] for i in range(1000)])\n",
    "testset.append([l[i+1000] for i in range(1000)])\n",
    "testset.append([l[i+2000] for i in range(1000)])\n",
    "testset.append([l[i+3000] for i in range(1000)])\n",
    "testset.append([l[i+4000] for i in range(1001)])\n",
    "dataset = []\n",
    "dataset.append([l[i] for i in range(5001) if l[i] not in testset[0] ])\n",
    "dataset.append([l[i] for i in range(5001) if l[i] not in testset[1] ])\n",
    "dataset.append([l[i] for i in range(5001) if l[i] not in testset[2] ])\n",
    "dataset.append([l[i] for i in range(5001) if l[i] not in testset[3] ])\n",
    "dataset.append([l[i] for i in range(5001) if l[i] not in testset[4] ])\n",
    "\n",
    "\n",
    "# performace_majority_vote = 0\n",
    "# performace_my_algo = 0\n",
    "# test = testset[0]\n",
    "# dataset = dataset[0]\n",
    "# for node in test:\n",
    "#     i = Majority_Vote(node,data)\n",
    "#     j = My_algorithm(node,data)\n",
    "#     if labels[node] is None:\n",
    "#         continue\n",
    "#     if i in labels[node]:\n",
    "#         performace_majority_vote += 1\n",
    "#     if j in labels[node]:\n",
    "#         performace_my_algo += 1\n",
    "        \n",
    "# test performace\n",
    "performace_majority_vote = 0\n",
    "performace_my_algo = 0\n",
    "\n",
    "for i in range(5):\n",
    "    test = testset[i]\n",
    "    data = dataset[i]\n",
    "    for node in test:\n",
    "        i = Majority_Vote(node,data)\n",
    "        j = My_algorithm(node,data)\n",
    "        if labels[node] is None:\n",
    "            continue\n",
    "        if i in labels[node]:\n",
    "            performace_majority_vote += 1\n",
    "        if j in labels[node]:\n",
    "            performace_my_algo += 1\n",
    "\n",
    "print(performace_majority_vote)\n",
    "print(performace_my_algo)\n",
    "    \n",
    "    \n",
    "    \n",
    "    \n",
    " "
   ]
  },
  {
   "cell_type": "code",
   "execution_count": 172,
   "metadata": {},
   "outputs": [
    {
     "name": "stdout",
     "output_type": "stream",
     "text": [
      "[(1, 2), (1, 3), (1, 4), (2, 3), (2, 4)]\n",
      "1\n",
      "1\n",
      "1\n",
      "2\n",
      "2\n"
     ]
    }
   ],
   "source": [
    "test1 = nx.Graph()\n",
    "test1.add_edge(1,2)\n",
    "test1.add_edge(3,2)\n",
    "test1.add_edge(1,3)\n",
    "test1.add_edge(1,4)\n",
    "test1.add_edge(2,4)\n",
    "\n",
    "print(test1.edges)\n",
    "for i in test1.edges:\n",
    "    print(i[0])\n"
   ]
  },
  {
   "cell_type": "code",
   "execution_count": null,
   "metadata": {},
   "outputs": [],
   "source": []
  },
  {
   "cell_type": "code",
   "execution_count": null,
   "metadata": {},
   "outputs": [],
   "source": []
  }
 ],
 "metadata": {
  "kernelspec": {
   "display_name": "Python 3",
   "language": "python",
   "name": "python3"
  },
  "language_info": {
   "codemirror_mode": {
    "name": "ipython",
    "version": 3
   },
   "file_extension": ".py",
   "mimetype": "text/x-python",
   "name": "python",
   "nbconvert_exporter": "python",
   "pygments_lexer": "ipython3",
   "version": "3.7.7"
  }
 },
 "nbformat": 4,
 "nbformat_minor": 4
}
