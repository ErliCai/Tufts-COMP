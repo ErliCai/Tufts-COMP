{
 "cells": [
  {
   "cell_type": "code",
   "execution_count": 12,
   "metadata": {},
   "outputs": [],
   "source": [
    "import networkx as nx\n",
    "import matplotlib.pyplot as plt\n",
    "import numpy as np\n",
    "import random\n",
    "\n",
    "\n",
    "# Build the directed graph of hollins.edu\n",
    "hollins = nx.DiGraph()\n",
    "h = open(\"hollins/hollins.dat\",'r')\n",
    "\n",
    "line = h.readline()\n",
    "maps = {}\n",
    "for i in range(6012):\n",
    "    line = h.readline()\n",
    "    l = line.split()\n",
    "    maps[int(l[0])] = l[1]\n",
    "    hollins.add_node(int(l[0]))\n",
    "    \n",
    "\n",
    "line = h.readline()\n",
    "while line:\n",
    "    l = line.split()\n",
    "    hollins.add_edge(int(l[0]),int(l[1]))\n",
    "    line = h.readline()\n",
    "\n",
    "# for i in range(6012):\n",
    "#     if hollins.out_degree == 0:\n",
    "#         print(1)\n",
    "\n",
    "\n",
    "# implementing pagerank algorithm\n",
    "\n",
    "# find the pagerank matrix with damping factor 0.85\n",
    "def get_pagerank_matrix(graph):\n",
    "    dimension = len(graph.nodes)\n",
    "    pagerank_matrix = [[0] * dimension for i in range(dimension)]\n",
    "    list_of_node = list(hollins.nodes)\n",
    "    for node in graph.nodes:\n",
    "        out_edges = graph.out_edges(node)\n",
    "        index1 = list_of_node.index(node)\n",
    "        number_of_out_nodes = len(out_edges)\n",
    "        if list(out_edges) == []:\n",
    "            pagerank_matrix[index1][index1] = 1\n",
    "        for out_edge in out_edges:\n",
    "            begin_node = out_edge[1]\n",
    "            index2 = list_of_node.index(begin_node)\n",
    "            pagerank_matrix[index2][index1] = 1/number_of_out_nodes  \n",
    "    dangling = np.array([[1/dimension] * dimension for i in range(dimension)])\n",
    "    pagerank_matrix = np.array(pagerank_matrix)\n",
    "    pagerank_matrix = 0.85 * pagerank_matrix + 0.15 * dangling\n",
    "    return pagerank_matrix\n",
    "\n",
    "# repeatedly multiply pagerank matrix till the change in flow become small\n",
    "def pagerank(graph):\n",
    "    matrix = get_pagerank_matrix(graph)\n",
    "    M = matrix\n",
    "    flow = np.array([1] * len(graph.nodes))\n",
    "    Terminate = False\n",
    "    for i in range(100):\n",
    "        if Terminate:\n",
    "            return flow\n",
    "        new_flow = M.dot(flow)\n",
    "        delta = []\n",
    "        for i in range(len(flow)):\n",
    "            delta.append(abs(new_flow[i] - flow[i]))\n",
    "        if max(delta) < 0.1:\n",
    "            Terminate = True\n",
    "        flow = new_flow\n",
    "            \n",
    "\n",
    "h.close()"
   ]
  },
  {
   "cell_type": "code",
   "execution_count": 13,
   "metadata": {},
   "outputs": [
    {
     "name": "stdout",
     "output_type": "stream",
     "text": [
      "[ 0.15       51.39904455  1.93877861 ...  1.18685785  1.18685785\n",
      "  3.02659259]\n",
      "['http://www.hollins.edu/calendar', 'http://www.hollins.edu/', 'http://www.hollins.edu/calendar/null.htm', 'http://www.hollins.edu/admissions/visit/visit.htm', 'http://www.hollins.edu/about/about_tour.htm']\n",
      "['http://www1.hollins.edu/Docs/GVCalendar/GVArchive/gvjan24.htm', 'http://www1.hollins.edu/Docs/GVCalendar/GVArchive/gvfeb7.htm', 'http://www1.hollins.edu/Docs/GVCalendar/GVArchive/gvfeb14.htm', 'http://www.hollins.edu/academics/library/libtoc.htm', 'http://www1.hollins.edu/']\n"
     ]
    }
   ],
   "source": [
    "# Question 2\n",
    "pagerank_flow = pagerank(hollins)\n",
    "print(pagerank_flow)\n",
    "\n",
    "arr = np.array(pagerank_flow)\n",
    "five_highest = list(arr.argsort()[-5:][::-1])\n",
    "five_highest = [i+1 for i in five_highest]\n",
    "five_lowest = list(arr.argsort()[:5][::-1])\n",
    "five_lowest = [i+1 for i in five_lowest]\n",
    "\n",
    "five_highest_name = [maps[i] for i in five_highest]\n",
    "five_lowest_name = [maps[i] for i in five_lowest]\n",
    "\n",
    "print(five_highest_name)\n",
    "print(five_lowest_name)"
   ]
  },
  {
   "cell_type": "code",
   "execution_count": null,
   "metadata": {},
   "outputs": [],
   "source": []
  },
  {
   "cell_type": "code",
   "execution_count": 14,
   "metadata": {},
   "outputs": [],
   "source": [
    "\n",
    "p1 = open(\"p1.txt\",'w+')\n",
    "for i in range(6012):\n",
    "    p1.write(maps[i+1])\n",
    "    p1.write('\\t')\n",
    "    p1.write(str(pagerank_flow[i]))\n",
    "    p1.write('\\n')\n",
    "    \n",
    "\n",
    "p1.close()\n"
   ]
  },
  {
   "cell_type": "code",
   "execution_count": 15,
   "metadata": {},
   "outputs": [
    {
     "name": "stdout",
     "output_type": "stream",
     "text": [
      "[[0.015  0.015  0.015 ]\n",
      " [0.1425 0.015  0.015 ]\n",
      " [0.1425 0.27   0.27  ]]\n",
      "[[0.05  0.05  0.05 ]\n",
      " [0.475 0.05  0.05 ]\n",
      " [0.475 0.9   0.9  ]]\n"
     ]
    },
    {
     "data": {
      "text/plain": [
       "array([0.15   , 0.21375, 2.63625])"
      ]
     },
     "execution_count": 15,
     "metadata": {},
     "output_type": "execute_result"
    }
   ],
   "source": [
    "# Some code to test DiGraph (directed graph) from networkx\n",
    "\n",
    "test = nx.DiGraph()\n",
    "test.add_edge(1,2)\n",
    "test.add_edge(1,3)\n",
    "test.add_edge(2,3)\n",
    "# print(test.out_degree(1))\n",
    "# print(test.in_edges(1))\n",
    "\n",
    "\n",
    "# Some code to test matrix operation from numpy\n",
    "A =  get_pagerank_matrix(test)\n",
    "print(0.1*A+0.2*A)\n",
    "print(A)\n",
    "# print(A.dot(A))\n",
    "pagerank(test)"
   ]
  },
  {
   "cell_type": "code",
   "execution_count": null,
   "metadata": {},
   "outputs": [],
   "source": []
  },
  {
   "cell_type": "code",
   "execution_count": 16,
   "metadata": {},
   "outputs": [
    {
     "name": "stdout",
     "output_type": "stream",
     "text": [
      "1490\n"
     ]
    }
   ],
   "source": [
    "# Question 3\n",
    "\n",
    "# build blogs network\n",
    "b = open(\"blogs/blogs.dat\",'r')\n",
    "lines = b.readlines()\n",
    "blogs = nx.DiGraph()\n",
    "\n",
    "map_blog = {}\n",
    "for i in range(1490):\n",
    "    map_blog[i+1] = lines[i+4].rstrip()\n",
    "    blogs.add_node(i+1)\n",
    "\n",
    "for i in range(2986,len(lines)-1):\n",
    "    l = lines[i]\n",
    "    l = l.split()\n",
    "    if int(l[2]) > 0:\n",
    "        blogs.add_edge(int(l[0]),int(l[1]))    \n",
    "print(len(blogs.nodes))"
   ]
  },
  {
   "cell_type": "code",
   "execution_count": 17,
   "metadata": {},
   "outputs": [
    {
     "name": "stdout",
     "output_type": "stream",
     "text": [
      "['\"andrewsull\"', '\"freerepubl\"', '\"jewishworl\"', '\"politicalw\"', '\"kausfiles\"']\n",
      "['\"howienfrie\"', '\"ibrutusco\"', '\"dilusionl\"', '\"devildawg\"', '\"zeph1ztri\"']\n"
     ]
    }
   ],
   "source": [
    "pagerank_result = pagerank(blogs)\n",
    "# print(pagerank_result)\n",
    "\n",
    "arr = np.array(pagerank_result)\n",
    "five_highest = list(arr.argsort()[-5:][::-1])\n",
    "five_highest = [i+1 for i in five_highest]\n",
    "five_lowest = list(arr.argsort()[:5][::-1])\n",
    "five_lowest = [i+1 for i in five_lowest]\n",
    "\n",
    "five_highest_name = [map_blog[i] for i in five_highest]\n",
    "five_lowest_name = [map_blog[i] for i in five_lowest]\n",
    "\n",
    "print(five_highest_name)\n",
    "print(five_lowest_name)"
   ]
  },
  {
   "cell_type": "code",
   "execution_count": 18,
   "metadata": {},
   "outputs": [],
   "source": [
    "p2 = open(\"p2.txt\",'w+')\n",
    "for i in range(1490):\n",
    "    p2.write(map_blog[i+1])\n",
    "    p2.write('\\t')\n",
    "    p2.write(str(pagerank_result[i]))\n",
    "    p2.write('\\n')\n",
    "    \n",
    "p2.close()"
   ]
  },
  {
   "cell_type": "code",
   "execution_count": 19,
   "metadata": {},
   "outputs": [],
   "source": [
    "\n",
    "#Implementing personla pagerank algorithm\n",
    "\n",
    "def get_key(value, dictionary):\n",
    "    for k,v in dictionary.items():\n",
    "        if v == value:\n",
    "            return k\n",
    "\n",
    "# find the pagerank matrix with damping factor 0.85\n",
    "def personalised_pagerank_matrix(graph, target_node, dictionary):\n",
    "    index_key = get_key(target_node, dictionary)\n",
    "    dimension = len(graph.nodes)\n",
    "    pagerank_matrix = [[0] * dimension for i in range(dimension)]\n",
    "    list_of_node = list(hollins.nodes)\n",
    "    for node in graph.nodes:\n",
    "        out_edges = graph.out_edges(node)\n",
    "        index1 = list_of_node.index(node)\n",
    "        number_of_out_nodes = len(out_edges)\n",
    "        if list(out_edges) == []:\n",
    "            pagerank_matrix[index1][index1] = 1\n",
    "        for out_edge in out_edges:\n",
    "            begin_node = out_edge[1]\n",
    "            index2 = list_of_node.index(begin_node)\n",
    "            pagerank_matrix[index2][index1] = 1/number_of_out_nodes  \n",
    "    dangling = np.array([[1/dimension] * dimension for i in range(dimension)])\n",
    "    pagerank_matrix = np.array(pagerank_matrix)\n",
    "    pagerank_matrix = 0.85 * pagerank_matrix + 0.15 * dangling\n",
    "    restart_matrix = [[0] * dimension for i in range(dimension)]\n",
    "    restart_matrix[index_key] = [1] * dimension\n",
    "    restart_matrix = np.array(restart_matrix)\n",
    "    pagerank_matrix = 0.9 * pagerank_matrix + 0.1 * restart_matrix\n",
    "    return pagerank_matrix\n",
    "\n",
    "# repeatedly multiply pagerank matrix till the change in flow become small\n",
    "def personalized_pagerank(graph, target_node, dictionary):\n",
    "    index_key = get_key(target_node, dictionary)\n",
    "    matrix = personalised_pagerank_matrix(graph, target_node, dictionary)\n",
    "    M = matrix\n",
    "    flow = [0] * len(graph.nodes)\n",
    "    flow[index_key] = 1\n",
    "    flow = np.array(flow)\n",
    "    Terminate = False\n",
    "    for i in range(20):\n",
    "        flow = M.dot(flow)\n",
    "    return flow\n",
    "\n"
   ]
  },
  {
   "cell_type": "code",
   "execution_count": 20,
   "metadata": {},
   "outputs": [
    {
     "name": "stdout",
     "output_type": "stream",
     "text": [
      "0.10250223496475654\n"
     ]
    }
   ],
   "source": [
    "rank = personalized_pagerank(blogs,'\"dailykosc\"', map_blog)\n",
    "n = get_key('\"dailykosc\"',map_blog)\n",
    "print(rank[n])"
   ]
  },
  {
   "cell_type": "code",
   "execution_count": 24,
   "metadata": {},
   "outputs": [],
   "source": [
    "# Question 4\n",
    "\n",
    "target_page = ['\"dailykosc\"', '\"atriosblo\"', '\"wonkettec\"', '\"talkleftc\"',\n",
    "              '\"juancolec\"', '\"powerlineb\"', '\"realclearp\"',\n",
    "              '\"blogsforbu\"', '\"instapundi\"', '\"michellema\"']\n",
    "rank = []\n",
    "for i in target_page:\n",
    "    rank.append(personalized_pagerank(blogs, i, map_blog))\n",
    "\n",
    "p3 = open(\"p3.txt\",'w+')\n",
    "for j in range(10):\n",
    "    p3.write(target_page[j])\n",
    "    p3.write('\\t')\n",
    "p3.write('\\n')\n",
    "for i in range(len(blogs)):\n",
    "    for j in range(10):\n",
    "        p3.write(str(rank[j][i]))\n",
    "        p3.write('\\t')\n",
    "    p3.write('\\n')\n",
    "    \n",
    "    \n",
    "    \n",
    "p3.close()"
   ]
  },
  {
   "cell_type": "code",
   "execution_count": 25,
   "metadata": {},
   "outputs": [
    {
     "name": "stdout",
     "output_type": "stream",
     "text": [
      "155\n"
     ]
    }
   ],
   "source": [
    "print(get_key('\"dailykosc\"',map_blog))"
   ]
  },
  {
   "cell_type": "code",
   "execution_count": null,
   "metadata": {},
   "outputs": [],
   "source": []
  }
 ],
 "metadata": {
  "kernelspec": {
   "display_name": "Python 3",
   "language": "python",
   "name": "python3"
  },
  "language_info": {
   "codemirror_mode": {
    "name": "ipython",
    "version": 3
   },
   "file_extension": ".py",
   "mimetype": "text/x-python",
   "name": "python",
   "nbconvert_exporter": "python",
   "pygments_lexer": "ipython3",
   "version": "3.7.7"
  }
 },
 "nbformat": 4,
 "nbformat_minor": 4
}
