{
 "cells": [
  {
   "cell_type": "code",
   "execution_count": 11,
   "metadata": {},
   "outputs": [],
   "source": [
    "import networkx as nx\n",
    "import matplotlib.pyplot as plt\n",
    "import random\n",
    "import networkx.algorithms.community as nx_comm\n",
    "import copy\n",
    "import community\n",
    "\n",
    "def FindGroup(groups, i):\n",
    "    for index in range(len(groups)):\n",
    "        if i in groups[index]:\n",
    "            return index\n",
    "\n",
    "def MovingNodes(G,Groups):\n",
    "    groups = copy.deepcopy(Groups)\n",
    "    for i in G.nodes:\n",
    "        modularity = nx_comm.modularity(G, groups)\n",
    "        index = FindGroup(groups, i)\n",
    "        groups[index].remove(i)\n",
    "        possibilities = []\n",
    "#         for j in range(len(groups)):\n",
    "#             print(j)\n",
    "#             Groups = copy.deepcopy(groups)\n",
    "#             Groups[j] += [i]\n",
    "#             possibilities.append(Groups)\n",
    "        for j in G.neighbors(i):\n",
    "            Groups = copy.deepcopy(groups)\n",
    "            index = FindGroup(Groups, j)\n",
    "            Groups[index] += [i]\n",
    "            possibilities.append(Groups)\n",
    "            \n",
    "        groups = max(possibilities, key=lambda x: nx_comm.modularity(G,x))\n",
    "        if [] in groups:\n",
    "            groups.remove([])\n",
    "    return groups\n",
    "\n",
    "def MovingGroups(G, Groups):\n",
    "    modularity = nx_comm.modularity(G, Groups)\n",
    "    for i in range(len(Groups)):\n",
    "        groups = copy.deepcopy(Groups)\n",
    "        g = groups[i]\n",
    "        groups.remove(g)\n",
    "        for j in range(len(groups)):\n",
    "            new_group = copy.deepcopy(groups)\n",
    "            new_group[j] += g\n",
    "            if nx_comm.modularity(G, new_group) > modularity:\n",
    "                return new_group\n",
    "    return Groups\n",
    "        \n",
    "               \n",
    "        \n",
    "def LouvianMethod(G):\n",
    "    # G is the graph we are interested in\n",
    "    # n is the number of communities we want\n",
    "    groups = []\n",
    "    for i in G.nodes:\n",
    "        groups.append([i])\n",
    "    # Gropus = groups.copy()\n",
    "    i = 0\n",
    "    Finished = False\n",
    "    while not Finished:\n",
    "        i+=1\n",
    "        new_groups = MovingNodes(G, groups)\n",
    "        if new_groups == groups:\n",
    "            Finished = True\n",
    "        groups = new_groups\n",
    "        #print(groups)\n",
    "    Finished = False\n",
    "    i = 0\n",
    "    while not Finished:\n",
    "        i+=1\n",
    "        new_groups = MovingGroups(G,groups)\n",
    "        if new_groups == groups:\n",
    "            Finished = True\n",
    "        groups = new_groups\n",
    "        #print(groups)\n",
    "    return groups\n",
    "        \n",
    "\n",
    "    \n",
    "    \n",
    "\n"
   ]
  },
  {
   "cell_type": "code",
   "execution_count": 12,
   "metadata": {},
   "outputs": [
    {
     "name": "stdout",
     "output_type": "stream",
     "text": [
      "[[5, 6, 16, 4, 10], [0, 1, 11, 17, 19, 21, 2, 3, 7, 9, 12, 13], [23, 24, 25, 27, 28, 31], [8, 14, 15, 18, 20, 22, 26, 29, 30, 32, 33]]\n"
     ]
    }
   ],
   "source": [
    "\n",
    "\n",
    "file = open(\"karate/zachary.dat\")\n",
    "f = file.readlines()\n",
    "\n",
    "karate = nx.Graph()\n",
    "karate.add_nodes_from(list(range(34)))\n",
    "\n",
    "for i in range(34):\n",
    "    line = f[i+7].split()\n",
    "    for j in range(34):\n",
    "        if line[j] == '1':\n",
    "            karate.add_edge(i,j)\n",
    "# fig = plt.figure(figsize=(15, 15)) \n",
    "# nx.draw(karate,node_size = 200,edge_color='r')\n",
    "print(LouvianMethod(karate))\n"
   ]
  },
  {
   "cell_type": "code",
   "execution_count": 6,
   "metadata": {},
   "outputs": [
    {
     "name": "stdout",
     "output_type": "stream",
     "text": [
      "[4, 5, 6]\n",
      "-0.18000000000000005\n",
      "-0.24000000000000005\n",
      "5.551115123125783e-18\n",
      "<built-in function round>\n",
      "<built-in function round>\n",
      "<built-in function round>\n"
     ]
    },
    {
     "data": {
      "text/plain": [
       "[[2, 1], [6, 7, 5, 4, 3]]"
      ]
     },
     "execution_count": 6,
     "metadata": {},
     "output_type": "execute_result"
    }
   ],
   "source": [
    "test = nx.Graph()\n",
    "test.add_edges_from([[1,2],[3,4],[5,7],[3,5],[3,6]])\n",
    "print(list(test.neighbors(3)))\n",
    "print(nx_comm.modularity(test,[[1],[2],[3],[4],[5],[6],[7]]))\n",
    "print(nx_comm.modularity(test,[[1,3],[2],[4],[5],[6],[7]]))\n",
    "print(nx_comm.modularity(test,[[1,2],[3],[4],[5],[6],[7]]))\n",
    "LouvianMethod2(test)\n",
    "#nx.draw(test)\n",
    "# print(nx_comm.modularity(test,[[1],[2],[3],[4],[5],[6],[7]]))\n",
    "# print(MovingNodes(test,[[1],[2],[3],[4],[5],[6],[7]]))\n",
    "# print(LouvianMethod(test))\n",
    "# print(LouvianMethod(test,2))\n",
    "# print(nx_comm.modularity(test,[[1,2,3],[4,5,6,7]]))\n",
    "# print(nx_comm.modularity(test,[[1,2,3,4],[5,6,7]]))\n",
    "# print(nx_comm.modularity(test,[[1],[2,3,4,5,6,7]]))\n",
    "# print(nx_comm.modularity(test,[[1,2,3,4,5,6,7]]))\n",
    "# print(nx_comm.modularity(test,[[1,2],[3,4,5,6,7],[]]))\n",
    "\n",
    "# print([1,2] in test.edges)\n",
    "# print((1,2) in test)\n"
   ]
  },
  {
   "cell_type": "code",
   "execution_count": 7,
   "metadata": {},
   "outputs": [],
   "source": [
    "\n"
   ]
  },
  {
   "cell_type": "code",
   "execution_count": 79,
   "metadata": {},
   "outputs": [],
   "source": [
    "Mips = open(\"ppi/MIPSFirstLevel.anno3\",\"r\")\n",
    "l = Mips.readline()\n",
    "\n",
    "labels = {}\n",
    "while l:\n",
    "    line = l.split()\n",
    "    if len(line) > 1:\n",
    "        labels[line[0]] = set(line[1:])\n",
    "    else:\n",
    "        labels[line[0]] = set()\n",
    "    \n",
    "    l = Mips.readline()\n",
    "\n",
    "\n",
    "ppi = nx.Graph()\n",
    "\n",
    "file = open(\"ppi/confidence.ppi\",\"r\")\n",
    "f = file.readline()\n",
    "\n",
    "\n",
    "while f:\n",
    "    line = f.split()\n",
    "    ppi.add_edge(line[0],line[1])\n",
    "    f = file.readline()\n",
    "file.close()\n",
    "\n",
    "partition = community.best_partition(ppi)\n",
    "\n",
    "group_size  = max(partition.values()) + 1\n",
    "groups = [[] for i in range(group_size)]\n",
    "for i, j in partition.items():\n",
    "    groups[j].append(i)\n",
    "\n",
    "def score(group, labels):\n",
    "    score = 0\n",
    "    for i in group:\n",
    "        for j in group:\n",
    "            if i != j:\n",
    "                l = labels[i].intersection(labels[j])\n",
    "                if len(l) > 0:\n",
    "                    score += 1\n",
    "    score = score/(2*len(group) * (len(group)-1))\n",
    "                   \n",
    "    return score\n",
    "\n",
    "scores = [0] * (group_size+1)\n",
    "for i in range(group_size):\n",
    "    scores[i] = score(groups[i],labels)\n",
    "\n",
    "p3 = open(\"p3.txt\",\"w\")\n",
    "for i in range(group_size):\n",
    "    p3.write(\"cluster\" + str(i+1) + \":\\n\")\n",
    "    p3.write(\"score:\" + str(scores[i]) + \"\\n\")\n",
    "    p3.write(str(groups[i]))\n",
    "    p3.write('\\n')\n",
    "    p3.write('\\n')\n",
    "    \n",
    "p3.close()"
   ]
  },
  {
   "cell_type": "code",
   "execution_count": null,
   "metadata": {},
   "outputs": [],
   "source": []
  },
  {
   "cell_type": "code",
   "execution_count": null,
   "metadata": {},
   "outputs": [],
   "source": []
  },
  {
   "cell_type": "code",
   "execution_count": null,
   "metadata": {},
   "outputs": [],
   "source": []
  },
  {
   "cell_type": "code",
   "execution_count": null,
   "metadata": {},
   "outputs": [],
   "source": []
  },
  {
   "cell_type": "code",
   "execution_count": null,
   "metadata": {},
   "outputs": [],
   "source": []
  },
  {
   "cell_type": "code",
   "execution_count": null,
   "metadata": {},
   "outputs": [],
   "source": []
  },
  {
   "cell_type": "code",
   "execution_count": null,
   "metadata": {},
   "outputs": [],
   "source": []
  },
  {
   "cell_type": "code",
   "execution_count": 75,
   "metadata": {},
   "outputs": [
    {
     "name": "stdout",
     "output_type": "stream",
     "text": [
      "[0, 0, 0, 0, 0, 0, 0, 0, 0, 0]\n"
     ]
    }
   ],
   "source": []
  },
  {
   "cell_type": "code",
   "execution_count": 76,
   "metadata": {},
   "outputs": [],
   "source": []
  },
  {
   "cell_type": "code",
   "execution_count": null,
   "metadata": {},
   "outputs": [],
   "source": []
  }
 ],
 "metadata": {
  "kernelspec": {
   "display_name": "Python 3",
   "language": "python",
   "name": "python3"
  },
  "language_info": {
   "codemirror_mode": {
    "name": "ipython",
    "version": 3
   },
   "file_extension": ".py",
   "mimetype": "text/x-python",
   "name": "python",
   "nbconvert_exporter": "python",
   "pygments_lexer": "ipython3",
   "version": "3.7.7"
  }
 },
 "nbformat": 4,
 "nbformat_minor": 4
}
